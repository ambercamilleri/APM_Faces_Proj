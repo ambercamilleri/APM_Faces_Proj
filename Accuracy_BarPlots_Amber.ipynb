{
 "cells": [
  {
   "cell_type": "markdown",
   "metadata": {},
   "source": [
    "Author: Amber Camilleri"
   ]
  },
  {
   "cell_type": "markdown",
   "metadata": {},
   "source": [
    "# Test = UTK;  Train = WIKI"
   ]
  },
  {
   "cell_type": "code",
   "execution_count": 1,
   "metadata": {},
   "outputs": [],
   "source": [
    "from sklearn import linear_model\n",
    "from sklearn.metrics import mean_squared_error\n",
    "import matplotlib.pyplot as plt\n",
    "from matplotlib.pyplot import errorbar\n",
    "import matplotlib.pyplot as plt\n",
    "import numpy as np\n",
    "import pandas as pd\n",
    "import seaborn as sns\n",
    "%matplotlib inline\n",
    "\n",
    "import numpy as np\n",
    "import scipy.stats"
   ]
  },
  {
   "cell_type": "markdown",
   "metadata": {},
   "source": [
    "### Load the Data: `utk_face_predictions.csv`\n",
    "\n",
    "The labels of each face image is embedded in the file name, formated like `[age]_[gender]_[race]_[date&time].jpg`\n",
    "\n",
    "`[age]` is an integer from 0 to 116, indicating the age\n",
    "\n",
    "`[gender]` is either 0 (male) or 1 (female)\n",
    "\n",
    "`[race]` is an integer from 0 to 4, denoting White, Black, Asian, Indian, and Others (like Hispanic, Latino, Middle Eastern).\n",
    "\n",
    "`[date&time]` is in the format of yyyymmddHHMMSSFFF, showing the date and time an image was collected to UTKFace"
   ]
  },
  {
   "cell_type": "code",
   "execution_count": 2,
   "metadata": {},
   "outputs": [
    {
     "data": {
      "text/html": [
       "<div>\n",
       "<style scoped>\n",
       "    .dataframe tbody tr th:only-of-type {\n",
       "        vertical-align: middle;\n",
       "    }\n",
       "\n",
       "    .dataframe tbody tr th {\n",
       "        vertical-align: top;\n",
       "    }\n",
       "\n",
       "    .dataframe thead th {\n",
       "        text-align: right;\n",
       "    }\n",
       "</style>\n",
       "<table border=\"1\" class=\"dataframe\">\n",
       "  <thead>\n",
       "    <tr style=\"text-align: right;\">\n",
       "      <th></th>\n",
       "      <th>ActualAge</th>\n",
       "      <th>Gender</th>\n",
       "      <th>Race</th>\n",
       "      <th>Date&amp;Time</th>\n",
       "      <th>FileName</th>\n",
       "      <th>PredAge</th>\n",
       "    </tr>\n",
       "  </thead>\n",
       "  <tbody>\n",
       "    <tr>\n",
       "      <th>0</th>\n",
       "      <td>100</td>\n",
       "      <td>1</td>\n",
       "      <td>0</td>\n",
       "      <td>20170110183726390</td>\n",
       "      <td>100_1_0_20170110183726390.jpg.chip.jpg</td>\n",
       "      <td>52</td>\n",
       "    </tr>\n",
       "    <tr>\n",
       "      <th>1</th>\n",
       "      <td>100</td>\n",
       "      <td>1</td>\n",
       "      <td>2</td>\n",
       "      <td>20170105174847679</td>\n",
       "      <td>100_1_2_20170105174847679.jpg.chip.jpg</td>\n",
       "      <td>39</td>\n",
       "    </tr>\n",
       "    <tr>\n",
       "      <th>2</th>\n",
       "      <td>101</td>\n",
       "      <td>1</td>\n",
       "      <td>2</td>\n",
       "      <td>20170105174739309</td>\n",
       "      <td>101_1_2_20170105174739309.jpg.chip.jpg</td>\n",
       "      <td>37</td>\n",
       "    </tr>\n",
       "    <tr>\n",
       "      <th>3</th>\n",
       "      <td>10</td>\n",
       "      <td>0</td>\n",
       "      <td>0</td>\n",
       "      <td>20161220222308131</td>\n",
       "      <td>10_0_0_20161220222308131.jpg.chip.jpg</td>\n",
       "      <td>30</td>\n",
       "    </tr>\n",
       "    <tr>\n",
       "      <th>4</th>\n",
       "      <td>10</td>\n",
       "      <td>0</td>\n",
       "      <td>0</td>\n",
       "      <td>20170103200329407</td>\n",
       "      <td>10_0_0_20170103200329407.jpg.chip.jpg</td>\n",
       "      <td>30</td>\n",
       "    </tr>\n",
       "  </tbody>\n",
       "</table>\n",
       "</div>"
      ],
      "text/plain": [
       "   ActualAge  Gender  Race          Date&Time  \\\n",
       "0        100       1     0  20170110183726390   \n",
       "1        100       1     2  20170105174847679   \n",
       "2        101       1     2  20170105174739309   \n",
       "3         10       0     0  20161220222308131   \n",
       "4         10       0     0  20170103200329407   \n",
       "\n",
       "                                 FileName  PredAge  \n",
       "0  100_1_0_20170110183726390.jpg.chip.jpg       52  \n",
       "1  100_1_2_20170105174847679.jpg.chip.jpg       39  \n",
       "2  101_1_2_20170105174739309.jpg.chip.jpg       37  \n",
       "3   10_0_0_20161220222308131.jpg.chip.jpg       30  \n",
       "4   10_0_0_20170103200329407.jpg.chip.jpg       30  "
      ]
     },
     "execution_count": 2,
     "metadata": {},
     "output_type": "execute_result"
    }
   ],
   "source": [
    "df = pd.read_csv('utk_face_predictions.csv')\n",
    "df = df.drop(df.columns[[0]], axis=1)\n",
    "df.columns=['ActualAge','Gender','Race','Date&Time','FileName','PredAge']\n",
    "df.head()"
   ]
  },
  {
   "cell_type": "code",
   "execution_count": 3,
   "metadata": {},
   "outputs": [
    {
     "data": {
      "text/plain": [
       "array([0, 2, 1, 3, 4], dtype=int64)"
      ]
     },
     "execution_count": 3,
     "metadata": {},
     "output_type": "execute_result"
    }
   ],
   "source": [
    "df.Race.unique()"
   ]
  },
  {
   "cell_type": "markdown",
   "metadata": {},
   "source": [
    "### Label Race"
   ]
  },
  {
   "cell_type": "code",
   "execution_count": 4,
   "metadata": {},
   "outputs": [],
   "source": [
    "def label_race (i):\n",
    "    if i==0: return 'White'\n",
    "    elif i==1: return 'Black'\n",
    "    elif i==2: return 'Asian'\n",
    "    elif i==3: return 'Indian'\n",
    "    elif i==4: return 'Others'\n",
    "    else: return"
   ]
  },
  {
   "cell_type": "code",
   "execution_count": 5,
   "metadata": {},
   "outputs": [],
   "source": [
    "df['Race'] =df['Race'].apply(label_race)"
   ]
  },
  {
   "cell_type": "markdown",
   "metadata": {},
   "source": [
    "### Label Gender"
   ]
  },
  {
   "cell_type": "code",
   "execution_count": 6,
   "metadata": {},
   "outputs": [],
   "source": [
    "def label_gender (i):\n",
    "    if i==0: return 'Male'\n",
    "    elif i==1: return 'Female'\n",
    "    else: return\n",
    "    \n",
    "    \n",
    "df['Gender'] =df['Gender'].apply(label_gender)"
   ]
  },
  {
   "cell_type": "code",
   "execution_count": 7,
   "metadata": {},
   "outputs": [
    {
     "data": {
      "text/html": [
       "<div>\n",
       "<style scoped>\n",
       "    .dataframe tbody tr th:only-of-type {\n",
       "        vertical-align: middle;\n",
       "    }\n",
       "\n",
       "    .dataframe tbody tr th {\n",
       "        vertical-align: top;\n",
       "    }\n",
       "\n",
       "    .dataframe thead th {\n",
       "        text-align: right;\n",
       "    }\n",
       "</style>\n",
       "<table border=\"1\" class=\"dataframe\">\n",
       "  <thead>\n",
       "    <tr style=\"text-align: right;\">\n",
       "      <th></th>\n",
       "      <th>ActualAge</th>\n",
       "      <th>Gender</th>\n",
       "      <th>Race</th>\n",
       "      <th>Date&amp;Time</th>\n",
       "      <th>FileName</th>\n",
       "      <th>PredAge</th>\n",
       "    </tr>\n",
       "  </thead>\n",
       "  <tbody>\n",
       "    <tr>\n",
       "      <th>0</th>\n",
       "      <td>100</td>\n",
       "      <td>Female</td>\n",
       "      <td>White</td>\n",
       "      <td>20170110183726390</td>\n",
       "      <td>100_1_0_20170110183726390.jpg.chip.jpg</td>\n",
       "      <td>52</td>\n",
       "    </tr>\n",
       "    <tr>\n",
       "      <th>1</th>\n",
       "      <td>100</td>\n",
       "      <td>Female</td>\n",
       "      <td>Asian</td>\n",
       "      <td>20170105174847679</td>\n",
       "      <td>100_1_2_20170105174847679.jpg.chip.jpg</td>\n",
       "      <td>39</td>\n",
       "    </tr>\n",
       "    <tr>\n",
       "      <th>2</th>\n",
       "      <td>101</td>\n",
       "      <td>Female</td>\n",
       "      <td>Asian</td>\n",
       "      <td>20170105174739309</td>\n",
       "      <td>101_1_2_20170105174739309.jpg.chip.jpg</td>\n",
       "      <td>37</td>\n",
       "    </tr>\n",
       "    <tr>\n",
       "      <th>3</th>\n",
       "      <td>10</td>\n",
       "      <td>Male</td>\n",
       "      <td>White</td>\n",
       "      <td>20161220222308131</td>\n",
       "      <td>10_0_0_20161220222308131.jpg.chip.jpg</td>\n",
       "      <td>30</td>\n",
       "    </tr>\n",
       "    <tr>\n",
       "      <th>4</th>\n",
       "      <td>10</td>\n",
       "      <td>Male</td>\n",
       "      <td>White</td>\n",
       "      <td>20170103200329407</td>\n",
       "      <td>10_0_0_20170103200329407.jpg.chip.jpg</td>\n",
       "      <td>30</td>\n",
       "    </tr>\n",
       "  </tbody>\n",
       "</table>\n",
       "</div>"
      ],
      "text/plain": [
       "   ActualAge  Gender   Race          Date&Time  \\\n",
       "0        100  Female  White  20170110183726390   \n",
       "1        100  Female  Asian  20170105174847679   \n",
       "2        101  Female  Asian  20170105174739309   \n",
       "3         10    Male  White  20161220222308131   \n",
       "4         10    Male  White  20170103200329407   \n",
       "\n",
       "                                 FileName  PredAge  \n",
       "0  100_1_0_20170110183726390.jpg.chip.jpg       52  \n",
       "1  100_1_2_20170105174847679.jpg.chip.jpg       39  \n",
       "2  101_1_2_20170105174739309.jpg.chip.jpg       37  \n",
       "3   10_0_0_20161220222308131.jpg.chip.jpg       30  \n",
       "4   10_0_0_20170103200329407.jpg.chip.jpg       30  "
      ]
     },
     "execution_count": 7,
     "metadata": {},
     "output_type": "execute_result"
    }
   ],
   "source": [
    "df.head()"
   ]
  },
  {
   "cell_type": "markdown",
   "metadata": {},
   "source": [
    "# Plot % Accuracy"
   ]
  },
  {
   "cell_type": "markdown",
   "metadata": {},
   "source": [
    "### By Race"
   ]
  },
  {
   "cell_type": "code",
   "execution_count": 8,
   "metadata": {},
   "outputs": [
    {
     "name": "stdout",
     "output_type": "stream",
     "text": [
      "     Race  Group_Count\n",
      "0   White         5265\n",
      "1   Asian         1553\n",
      "2  Indian         1452\n",
      "3  Others         1103\n",
      "4   Black          405\n"
     ]
    }
   ],
   "source": [
    "# Find the Total Number of Data Available for Each Race\n",
    "df2 = pd.DataFrame(df['Race'].value_counts())\n",
    "df2.reset_index(inplace=True)\n",
    "df2.columns = ['Race','Group_Count']\n",
    "print(df2)"
   ]
  },
  {
   "cell_type": "code",
   "execution_count": 9,
   "metadata": {},
   "outputs": [],
   "source": [
    "# Count the Number Correctly Classified \n",
    "def correct_pred (row):\n",
    "    if row['ActualAge'] == row['PredAge']: return 1\n",
    "    else: return 0"
   ]
  },
  {
   "cell_type": "code",
   "execution_count": 10,
   "metadata": {},
   "outputs": [],
   "source": [
    "df['Correct_Age'] =df.apply (lambda row: correct_pred (row),axis=1)"
   ]
  },
  {
   "cell_type": "code",
   "execution_count": 11,
   "metadata": {},
   "outputs": [
    {
     "name": "stdout",
     "output_type": "stream",
     "text": [
      "     Race  Group_Count  Correct_Age  Per_Correct\n",
      "3  Others         1103           30     2.719855\n",
      "2  Indian         1452           33     2.272727\n",
      "1   Asian         1553           29     1.867354\n",
      "0   White         5265           61     1.158594\n",
      "4   Black          405            2     0.493827\n"
     ]
    }
   ],
   "source": [
    "# Find the Ratio of Number Correct / Total\n",
    "tp = pd.DataFrame(df.groupby(['Race'])['Correct_Age'].sum()) #Number Correct\n",
    "df3 = df2.merge(tp, on = 'Race') #Merge\n",
    "df3['Per_Correct'] = (df3['Correct_Age']*100) / df3['Group_Count'] #Take Ratio\n",
    "df3.sort_values('Per_Correct', ascending=False, inplace=True) #Sort\n",
    "print(df3)"
   ]
  },
  {
   "cell_type": "code",
   "execution_count": 12,
   "metadata": {},
   "outputs": [
    {
     "data": {
      "text/plain": [
       "Text(0, 0.5, '% Accuracy')"
      ]
     },
     "execution_count": 12,
     "metadata": {},
     "output_type": "execute_result"
    },
    {
     "data": {
      "image/png": "[encoded data removed]",
      "text/plain": [
       "<Figure size 1080x720 with 1 Axes>"
      ]
     },
     "metadata": {
      "needs_background": "light"
     },
     "output_type": "display_data"
    }
   ],
   "source": [
    "plt.figure(figsize=(15,10))\n",
    "ax1 = sns.barplot(x='Race', y='Per_Correct', color='green', data=df3)\n",
    "# df3.plot(kind='bar', x='Race', y='Per_Correct',color='green', legend=False)\n",
    "plt.xlabel('Race')\n",
    "plt.ylabel('% Accuracy')"
   ]
  },
  {
   "cell_type": "markdown",
   "metadata": {},
   "source": [
    "### By Gender and Race"
   ]
  },
  {
   "cell_type": "code",
   "execution_count": 13,
   "metadata": {},
   "outputs": [],
   "source": [
    "df9 = pd.DataFrame(df.groupby(['Race'])['Gender'].value_counts())\n",
    "# df9.reset_index(inplace=True)\n",
    "df9.columns = ['Group_Count']\n",
    "\n",
    "tp9 = pd.DataFrame(df.groupby(['Race','Gender'])['Correct_Age'].sum()) #Number Correct\n",
    "\n",
    "df10 = df9.merge(tp9, on=['Race','Gender']) #Merge"
   ]
  },
  {
   "cell_type": "code",
   "execution_count": 14,
   "metadata": {},
   "outputs": [
    {
     "data": {
      "text/html": [
       "<div>\n",
       "<style scoped>\n",
       "    .dataframe tbody tr th:only-of-type {\n",
       "        vertical-align: middle;\n",
       "    }\n",
       "\n",
       "    .dataframe tbody tr th {\n",
       "        vertical-align: top;\n",
       "    }\n",
       "\n",
       "    .dataframe thead th {\n",
       "        text-align: right;\n",
       "    }\n",
       "</style>\n",
       "<table border=\"1\" class=\"dataframe\">\n",
       "  <thead>\n",
       "    <tr style=\"text-align: right;\">\n",
       "      <th></th>\n",
       "      <th></th>\n",
       "      <th>Group_Count</th>\n",
       "      <th>Correct_Age</th>\n",
       "    </tr>\n",
       "    <tr>\n",
       "      <th>Race</th>\n",
       "      <th>Gender</th>\n",
       "      <th></th>\n",
       "      <th></th>\n",
       "    </tr>\n",
       "  </thead>\n",
       "  <tbody>\n",
       "    <tr>\n",
       "      <th rowspan=\"2\" valign=\"top\">Asian</th>\n",
       "      <th>Female</th>\n",
       "      <td>820</td>\n",
       "      <td>19</td>\n",
       "    </tr>\n",
       "    <tr>\n",
       "      <th>Male</th>\n",
       "      <td>733</td>\n",
       "      <td>10</td>\n",
       "    </tr>\n",
       "    <tr>\n",
       "      <th rowspan=\"2\" valign=\"top\">Black</th>\n",
       "      <th>Female</th>\n",
       "      <td>204</td>\n",
       "      <td>1</td>\n",
       "    </tr>\n",
       "    <tr>\n",
       "      <th>Male</th>\n",
       "      <td>201</td>\n",
       "      <td>1</td>\n",
       "    </tr>\n",
       "    <tr>\n",
       "      <th rowspan=\"2\" valign=\"top\">Indian</th>\n",
       "      <th>Female</th>\n",
       "      <td>920</td>\n",
       "      <td>25</td>\n",
       "    </tr>\n",
       "    <tr>\n",
       "      <th>Male</th>\n",
       "      <td>532</td>\n",
       "      <td>8</td>\n",
       "    </tr>\n",
       "    <tr>\n",
       "      <th rowspan=\"2\" valign=\"top\">Others</th>\n",
       "      <th>Female</th>\n",
       "      <td>648</td>\n",
       "      <td>16</td>\n",
       "    </tr>\n",
       "    <tr>\n",
       "      <th>Male</th>\n",
       "      <td>455</td>\n",
       "      <td>14</td>\n",
       "    </tr>\n",
       "    <tr>\n",
       "      <th rowspan=\"2\" valign=\"top\">White</th>\n",
       "      <th>Female</th>\n",
       "      <td>2814</td>\n",
       "      <td>38</td>\n",
       "    </tr>\n",
       "    <tr>\n",
       "      <th>Male</th>\n",
       "      <td>2451</td>\n",
       "      <td>23</td>\n",
       "    </tr>\n",
       "  </tbody>\n",
       "</table>\n",
       "</div>"
      ],
      "text/plain": [
       "               Group_Count  Correct_Age\n",
       "Race   Gender                          \n",
       "Asian  Female          820           19\n",
       "       Male            733           10\n",
       "Black  Female          204            1\n",
       "       Male            201            1\n",
       "Indian Female          920           25\n",
       "       Male            532            8\n",
       "Others Female          648           16\n",
       "       Male            455           14\n",
       "White  Female         2814           38\n",
       "       Male           2451           23"
      ]
     },
     "execution_count": 14,
     "metadata": {},
     "output_type": "execute_result"
    }
   ],
   "source": [
    "df10"
   ]
  },
  {
   "cell_type": "code",
   "execution_count": 15,
   "metadata": {},
   "outputs": [
    {
     "data": {
      "text/html": [
       "<div>\n",
       "<style scoped>\n",
       "    .dataframe tbody tr th:only-of-type {\n",
       "        vertical-align: middle;\n",
       "    }\n",
       "\n",
       "    .dataframe tbody tr th {\n",
       "        vertical-align: top;\n",
       "    }\n",
       "\n",
       "    .dataframe thead th {\n",
       "        text-align: right;\n",
       "    }\n",
       "</style>\n",
       "<table border=\"1\" class=\"dataframe\">\n",
       "  <thead>\n",
       "    <tr style=\"text-align: right;\">\n",
       "      <th></th>\n",
       "      <th>Race</th>\n",
       "      <th>Gender</th>\n",
       "      <th>Group_Count</th>\n",
       "      <th>Correct_Age</th>\n",
       "      <th>Per_Correct</th>\n",
       "    </tr>\n",
       "  </thead>\n",
       "  <tbody>\n",
       "    <tr>\n",
       "      <th>0</th>\n",
       "      <td>Asian</td>\n",
       "      <td>Female</td>\n",
       "      <td>820</td>\n",
       "      <td>19</td>\n",
       "      <td>2.317073</td>\n",
       "    </tr>\n",
       "    <tr>\n",
       "      <th>1</th>\n",
       "      <td>Asian</td>\n",
       "      <td>Male</td>\n",
       "      <td>733</td>\n",
       "      <td>10</td>\n",
       "      <td>1.364256</td>\n",
       "    </tr>\n",
       "    <tr>\n",
       "      <th>2</th>\n",
       "      <td>Black</td>\n",
       "      <td>Female</td>\n",
       "      <td>204</td>\n",
       "      <td>1</td>\n",
       "      <td>0.490196</td>\n",
       "    </tr>\n",
       "    <tr>\n",
       "      <th>3</th>\n",
       "      <td>Black</td>\n",
       "      <td>Male</td>\n",
       "      <td>201</td>\n",
       "      <td>1</td>\n",
       "      <td>0.497512</td>\n",
       "    </tr>\n",
       "    <tr>\n",
       "      <th>4</th>\n",
       "      <td>Indian</td>\n",
       "      <td>Female</td>\n",
       "      <td>920</td>\n",
       "      <td>25</td>\n",
       "      <td>2.717391</td>\n",
       "    </tr>\n",
       "    <tr>\n",
       "      <th>5</th>\n",
       "      <td>Indian</td>\n",
       "      <td>Male</td>\n",
       "      <td>532</td>\n",
       "      <td>8</td>\n",
       "      <td>1.503759</td>\n",
       "    </tr>\n",
       "    <tr>\n",
       "      <th>6</th>\n",
       "      <td>Others</td>\n",
       "      <td>Female</td>\n",
       "      <td>648</td>\n",
       "      <td>16</td>\n",
       "      <td>2.469136</td>\n",
       "    </tr>\n",
       "    <tr>\n",
       "      <th>7</th>\n",
       "      <td>Others</td>\n",
       "      <td>Male</td>\n",
       "      <td>455</td>\n",
       "      <td>14</td>\n",
       "      <td>3.076923</td>\n",
       "    </tr>\n",
       "    <tr>\n",
       "      <th>8</th>\n",
       "      <td>White</td>\n",
       "      <td>Female</td>\n",
       "      <td>2814</td>\n",
       "      <td>38</td>\n",
       "      <td>1.350391</td>\n",
       "    </tr>\n",
       "    <tr>\n",
       "      <th>9</th>\n",
       "      <td>White</td>\n",
       "      <td>Male</td>\n",
       "      <td>2451</td>\n",
       "      <td>23</td>\n",
       "      <td>0.938392</td>\n",
       "    </tr>\n",
       "  </tbody>\n",
       "</table>\n",
       "</div>"
      ],
      "text/plain": [
       "     Race  Gender  Group_Count  Correct_Age  Per_Correct\n",
       "0   Asian  Female          820           19     2.317073\n",
       "1   Asian    Male          733           10     1.364256\n",
       "2   Black  Female          204            1     0.490196\n",
       "3   Black    Male          201            1     0.497512\n",
       "4  Indian  Female          920           25     2.717391\n",
       "5  Indian    Male          532            8     1.503759\n",
       "6  Others  Female          648           16     2.469136\n",
       "7  Others    Male          455           14     3.076923\n",
       "8   White  Female         2814           38     1.350391\n",
       "9   White    Male         2451           23     0.938392"
      ]
     },
     "execution_count": 15,
     "metadata": {},
     "output_type": "execute_result"
    }
   ],
   "source": [
    "df10['Per_Correct'] = (df10['Correct_Age']*100) / df10['Group_Count'] #Take Ratio\n",
    "df11 = df10.reset_index()\n",
    "df11"
   ]
  },
  {
   "cell_type": "code",
   "execution_count": 16,
   "metadata": {},
   "outputs": [
    {
     "data": {
      "text/plain": [
       "Text(0, 0.5, '% Accuracy')"
      ]
     },
     "execution_count": 16,
     "metadata": {},
     "output_type": "execute_result"
    },
    {
     "data": {
      "image/png": "[encoded data removed]",
      "text/plain": [
       "<Figure size 1080x720 with 1 Axes>"
      ]
     },
     "metadata": {
      "needs_background": "light"
     },
     "output_type": "display_data"
    }
   ],
   "source": [
    "custom_order = ['Others','Indian','Asian','White','Black']\n",
    "\n",
    "plt.figure(figsize=(15,10))\n",
    "ax = sns.barplot(x='Race', y='Per_Correct', hue='Gender', data=df11, order=custom_order)\n",
    "plt.xlabel('Race')\n",
    "plt.ylabel('% Accuracy')"
   ]
  },
  {
   "cell_type": "code",
   "execution_count": null,
   "metadata": {},
   "outputs": [],
   "source": []
  }
 ],
 "metadata": {
  "kernelspec": {
   "display_name": "Python 3",
   "language": "python",
   "name": "python3"
  },
  "language_info": {
   "codemirror_mode": {
    "name": "ipython",
    "version": 3
   },
   "file_extension": ".py",
   "mimetype": "text/x-python",
   "name": "python",
   "nbconvert_exporter": "python",
   "pygments_lexer": "ipython3",
   "version": "3.7.3"
  }
 },
 "nbformat": 4,
 "nbformat_minor": 2
}
