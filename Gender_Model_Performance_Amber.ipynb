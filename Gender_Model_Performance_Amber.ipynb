{
 "cells": [
  {
   "cell_type": "markdown",
   "metadata": {},
   "source": [
    "Author: Amber Camilleri\n",
    "\n",
    "# Model Performance Evaluation for Gender Predictions\n",
    "**Models:**\n",
    "1. test=wiki; train=wiki\n",
    "2. test=utk_cropped; train=wiki\n",
    "3. test=utk_uncropped; train=wiki\n",
    "\n",
    "**Metrics:**\n",
    "* MAE\n",
    "* RMSE"
   ]
  },
  {
   "cell_type": "code",
   "execution_count": 1,
   "metadata": {},
   "outputs": [],
   "source": [
    "from sklearn import linear_model\n",
    "from sklearn.metrics import mean_absolute_error\n",
    "from sklearn.metrics import mean_squared_error\n",
    "from math import sqrt\n",
    "import matplotlib.pyplot as plt\n",
    "from matplotlib.pyplot import errorbar\n",
    "import matplotlib.pyplot as plt\n",
    "import numpy as np\n",
    "import pandas as pd\n",
    "import seaborn as sns\n",
    "%matplotlib inline\n",
    "\n",
    "import numpy as np\n",
    "import scipy.stats"
   ]
  },
  {
   "cell_type": "markdown",
   "metadata": {},
   "source": [
    "## Load the Data\n",
    ">`[gender]` is either 0 (male) or 1 (female)\n",
    ">\n",
    ">Note: The UTK dataset also includes labels for race as follows:\n",
    ">\n",
    ">`[race]` is an integer from 0 to 4, denoting White, Black, Asian, Indian, and Others (like Hispanic, Latino, Middle Eastern)."
   ]
  },
  {
   "cell_type": "markdown",
   "metadata": {},
   "source": [
    "#### (1) Test = WIKI;  Train = WIKI"
   ]
  },
  {
   "cell_type": "code",
   "execution_count": 2,
   "metadata": {},
   "outputs": [
    {
     "name": "stdout",
     "output_type": "stream",
     "text": [
      "Wiki//Wiki MAE: 0.01353994283135249 RMSE: 0.11636126001102123\n"
     ]
    }
   ],
   "source": [
    "gender1 = pd.read_csv('error_wiki_test_gender.csv')\n",
    "gender1 = gender1.drop(gender1.columns[[0]], axis=1)\n",
    "\n",
    "mae = mean_absolute_error(gender1['Actual'],gender1['Prediction'])\n",
    "rmse = sqrt(mean_squared_error(gender1['Actual'], gender1['Prediction']))\n",
    "print('Wiki//Wiki','MAE:',mae,'RMSE:',rmse)"
   ]
  },
  {
   "cell_type": "markdown",
   "metadata": {},
   "source": [
    "#### (2) Test = UTK_cropped;  Train = WIKI"
   ]
  },
  {
   "cell_type": "code",
   "execution_count": 3,
   "metadata": {},
   "outputs": [
    {
     "name": "stdout",
     "output_type": "stream",
     "text": [
      "CroppedUTK//Wiki MAE: 0.25935774186950294 RMSE: 0.5092717760385931\n"
     ]
    }
   ],
   "source": [
    "gender2 = pd.read_csv('utk_crop_gender_pred.csv')\n",
    "gender2 = gender2.drop(gender2.columns[[0,1,4,5,7]], axis=1)\n",
    "gender2.columns=['Actual','Race','Prediction']\n",
    "\n",
    "mae = mean_absolute_error(gender2['Actual'],gender2['Prediction'])\n",
    "rmse = sqrt(mean_squared_error(gender2['Actual'], gender2['Prediction']))\n",
    "print('CroppedUTK//Wiki','MAE:',mae,'RMSE:',rmse)"
   ]
  },
  {
   "cell_type": "markdown",
   "metadata": {},
   "source": [
    "#### (3) Test = UTK_uncropped;  Train = WIKI"
   ]
  },
  {
   "cell_type": "code",
   "execution_count": 4,
   "metadata": {},
   "outputs": [
    {
     "name": "stdout",
     "output_type": "stream",
     "text": [
      "UncroppedUTK//Wiki MAE: 0.2166092419943251 RMSE: 0.4654129800449544\n"
     ]
    }
   ],
   "source": [
    "gender3 = pd.read_csv('utk_uncropped_gender_pred.csv')\n",
    "gender3 = gender3.drop(gender3.columns[[0,1,4,5,7]], axis=1)\n",
    "gender3.columns=['Actual','Race','Prediction']\n",
    "\n",
    "mae = mean_absolute_error(gender3['Actual'],gender3['Prediction'])\n",
    "rmse = sqrt(mean_squared_error(gender3['Actual'], gender3['Prediction']))\n",
    "print('UncroppedUTK//Wiki','MAE:',mae,'RMSE:',rmse)"
   ]
  },
  {
   "cell_type": "markdown",
   "metadata": {},
   "source": [
    "## Plot Model Performance"
   ]
  },
  {
   "cell_type": "code",
   "execution_count": 5,
   "metadata": {},
   "outputs": [],
   "source": [
    "def metrics( g ):\n",
    "    mae = mean_absolute_error( g['Actual'], g['Prediction'] )\n",
    "    rmse = np.sqrt( mean_squared_error( g['Actual'], g['Prediction'] ) )\n",
    "    return pd.Series( dict( MAE = mae, RMSE = rmse ) )\n",
    "\n",
    "\n",
    "models=pd.DataFrame([metrics(gender1),metrics(gender2),metrics(gender3)],\n",
    "                    index=['Wiki','UTK (Cropped)','UTK (Not Cropped)'])\n",
    "models.sort_values(['RMSE','MAE'], ascending=False, inplace=True) #Sort"
   ]
  },
  {
   "cell_type": "code",
   "execution_count": 6,
   "metadata": {},
   "outputs": [
    {
     "data": {
      "text/plain": [
       "Text(0.5, 0, 'Test Model')"
      ]
     },
     "execution_count": 6,
     "metadata": {},
     "output_type": "execute_result"
    },
    {
     "data": {
      "image/png": "[encoded data removed]",
      "text/plain": [
       "<Figure size 1080x720 with 1 Axes>"
      ]
     },
     "metadata": {
      "needs_background": "light"
     },
     "output_type": "display_data"
    }
   ],
   "source": [
    "models.plot(kind='bar', alpha=0.5,figsize=(15,10))\n",
    "\n",
    "plt.title('Model Accuracy for Gender')\n",
    "plt.xticks(rotation=0)\n",
    "plt.xlabel('Test Model')"
   ]
  },
  {
   "cell_type": "markdown",
   "metadata": {},
   "source": [
    "## Plot UTK Model Performance by Race\n",
    "**Models:**\n",
    "2. test=utk_cropped; train=wiki\n",
    "3. test=utk_uncropped; train=wiki"
   ]
  },
  {
   "cell_type": "code",
   "execution_count": 7,
   "metadata": {},
   "outputs": [],
   "source": [
    "race2=gender2.groupby( 'Race' ).apply( metrics ).reset_index()\n",
    "race2.sort_values(['RMSE','MAE'], ascending=False, inplace=True) #Sort\n",
    "race3=gender3.groupby( 'Race' ).apply( metrics ).reset_index()\n",
    "race3.sort_values(['RMSE','MAE'], ascending=False, inplace=True) #Sort"
   ]
  },
  {
   "cell_type": "markdown",
   "metadata": {},
   "source": [
    "#### Label Race"
   ]
  },
  {
   "cell_type": "code",
   "execution_count": 8,
   "metadata": {},
   "outputs": [],
   "source": [
    "def label_race (i):\n",
    "    if i==0: return 'White'\n",
    "    elif i==1: return 'Black'\n",
    "    elif i==2: return 'Asian'\n",
    "    elif i==3: return 'Indian'\n",
    "    elif i==4: return 'Others'\n",
    "    else: return"
   ]
  },
  {
   "cell_type": "code",
   "execution_count": 9,
   "metadata": {},
   "outputs": [],
   "source": [
    "race2['Race'] =race2['Race'].apply(label_race)\n",
    "race3['Race'] =race3['Race'].apply(label_race)"
   ]
  },
  {
   "cell_type": "code",
   "execution_count": 10,
   "metadata": {},
   "outputs": [
    {
     "data": {
      "text/html": [
       "<div>\n",
       "<style scoped>\n",
       "    .dataframe tbody tr th:only-of-type {\n",
       "        vertical-align: middle;\n",
       "    }\n",
       "\n",
       "    .dataframe tbody tr th {\n",
       "        vertical-align: top;\n",
       "    }\n",
       "\n",
       "    .dataframe thead th {\n",
       "        text-align: right;\n",
       "    }\n",
       "</style>\n",
       "<table border=\"1\" class=\"dataframe\">\n",
       "  <thead>\n",
       "    <tr style=\"text-align: right;\">\n",
       "      <th></th>\n",
       "      <th>Race</th>\n",
       "      <th>MAE</th>\n",
       "      <th>RMSE</th>\n",
       "    </tr>\n",
       "  </thead>\n",
       "  <tbody>\n",
       "    <tr>\n",
       "      <th>3</th>\n",
       "      <td>Indian</td>\n",
       "      <td>0.374656</td>\n",
       "      <td>0.612091</td>\n",
       "    </tr>\n",
       "    <tr>\n",
       "      <th>2</th>\n",
       "      <td>Asian</td>\n",
       "      <td>0.364456</td>\n",
       "      <td>0.603702</td>\n",
       "    </tr>\n",
       "    <tr>\n",
       "      <th>1</th>\n",
       "      <td>Black</td>\n",
       "      <td>0.343210</td>\n",
       "      <td>0.585841</td>\n",
       "    </tr>\n",
       "    <tr>\n",
       "      <th>4</th>\n",
       "      <td>Others</td>\n",
       "      <td>0.271079</td>\n",
       "      <td>0.520652</td>\n",
       "    </tr>\n",
       "    <tr>\n",
       "      <th>0</th>\n",
       "      <td>White</td>\n",
       "      <td>0.187654</td>\n",
       "      <td>0.433191</td>\n",
       "    </tr>\n",
       "  </tbody>\n",
       "</table>\n",
       "</div>"
      ],
      "text/plain": [
       "     Race       MAE      RMSE\n",
       "3  Indian  0.374656  0.612091\n",
       "2   Asian  0.364456  0.603702\n",
       "1   Black  0.343210  0.585841\n",
       "4  Others  0.271079  0.520652\n",
       "0   White  0.187654  0.433191"
      ]
     },
     "execution_count": 10,
     "metadata": {},
     "output_type": "execute_result"
    }
   ],
   "source": [
    "race2.head()"
   ]
  },
  {
   "cell_type": "code",
   "execution_count": 11,
   "metadata": {},
   "outputs": [
    {
     "data": {
      "image/png": "[encoded data removed]",
      "text/plain": [
       "<Figure size 1080x360 with 2 Axes>"
      ]
     },
     "metadata": {
      "needs_background": "light"
     },
     "output_type": "display_data"
    }
   ],
   "source": [
    "fig, (ax1, ax2) = plt.subplots(1,2, figsize=(15,5), sharey=True)\n",
    "race2.plot(x='Race',kind='bar', alpha=0.5, ax=ax1)\n",
    "ax1.set(xlabel='Race', title='Gender Accuracy: UTK Cropped')\n",
    "\n",
    "race3.plot(x='Race',kind='bar',alpha=0.5, ax=ax2)\n",
    "ax2.set(xlabel='Race', title='Gender Accuracy: UTK Not Cropped')\n",
    "\n",
    "plt.show()"
   ]
  },
  {
   "cell_type": "code",
   "execution_count": 12,
   "metadata": {},
   "outputs": [
    {
     "data": {
      "text/plain": [
       "Text(0.5, 0, 'Race')"
      ]
     },
     "execution_count": 12,
     "metadata": {},
     "output_type": "execute_result"
    },
    {
     "data": {
      "image/png": "[encoded data removed]",
      "text/plain": [
       "<Figure size 1080x360 with 1 Axes>"
      ]
     },
     "metadata": {
      "needs_background": "light"
     },
     "output_type": "display_data"
    }
   ],
   "source": [
    "race2.plot(x='Race',kind='bar', alpha=0.5, figsize=(15,5))\n",
    "plt.title('Gender Accuracy: UTK Cropped')\n",
    "plt.xticks(rotation=0)\n",
    "plt.xlabel('Race')"
   ]
  },
  {
   "cell_type": "code",
   "execution_count": 13,
   "metadata": {},
   "outputs": [
    {
     "data": {
      "text/plain": [
       "Text(0.5, 0, 'Race')"
      ]
     },
     "execution_count": 13,
     "metadata": {},
     "output_type": "execute_result"
    },
    {
     "data": {
      "image/png": "[encoded data removed]",
      "text/plain": [
       "<Figure size 1080x360 with 1 Axes>"
      ]
     },
     "metadata": {
      "needs_background": "light"
     },
     "output_type": "display_data"
    }
   ],
   "source": [
    "race3.plot(x='Race',kind='bar',alpha=0.5, figsize=(15,5))\n",
    "plt.title('Gender Accuracy: UTK Not Cropped')\n",
    "plt.xticks(rotation=0)\n",
    "plt.xlabel('Race')"
   ]
  },
  {
   "cell_type": "code",
   "execution_count": null,
   "metadata": {},
   "outputs": [],
   "source": []
  }
 ],
 "metadata": {
  "kernelspec": {
   "display_name": "Python 3",
   "language": "python",
   "name": "python3"
  },
  "language_info": {
   "codemirror_mode": {
    "name": "ipython",
    "version": 3
   },
   "file_extension": ".py",
   "mimetype": "text/x-python",
   "name": "python",
   "nbconvert_exporter": "python",
   "pygments_lexer": "ipython3",
   "version": "3.7.3"
  }
 },
 "nbformat": 4,
 "nbformat_minor": 2
}
