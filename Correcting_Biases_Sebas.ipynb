{
 "cells": [
  {
   "cell_type": "code",
   "execution_count": 1,
   "metadata": {},
   "outputs": [],
   "source": [
    "#Import packages\n",
    "import pandas as pd\n",
    "import numpy as np\n",
    "import matplotlib.pyplot as plt\n",
    "from sklearn.ensemble import RandomForestRegressor\n",
    "from sklearn.metrics import mean_squared_error, r2_score\n",
    "#Test Polynomial regression \n",
    "from sklearn import linear_model\n",
    "from sklearn.metrics import mean_absolute_error\n",
    "from sklearn.preprocessing import PolynomialFeatures\n",
    "from sklearn.model_selection import train_test_split\n",
    "from sklearn.tree import DecisionTreeRegressor\n"
   ]
  },
  {
   "cell_type": "code",
   "execution_count": 2,
   "metadata": {},
   "outputs": [
    {
     "name": "stdout",
     "output_type": "stream",
     "text": [
      "(15804, 2)\n"
     ]
    }
   ],
   "source": [
    "#import errors\n",
    "df = pd.read_csv(\"error_wiki_train.csv\")\n",
    "#drop colunmn\n",
    "df = df.drop([\"Unnamed: 0\"], axis=1)\n",
    "print(df.shape)"
   ]
  },
  {
   "cell_type": "code",
   "execution_count": 3,
   "metadata": {},
   "outputs": [
    {
     "name": "stdout",
     "output_type": "stream",
     "text": [
      "indian    3176\n",
      "black     3173\n",
      "white     3169\n",
      "others    3146\n",
      "asian     3140\n",
      "Name: ethnicity, dtype: int64\n"
     ]
    },
    {
     "data": {
      "text/html": [
       "<div>\n",
       "<style scoped>\n",
       "    .dataframe tbody tr th:only-of-type {\n",
       "        vertical-align: middle;\n",
       "    }\n",
       "\n",
       "    .dataframe tbody tr th {\n",
       "        vertical-align: top;\n",
       "    }\n",
       "\n",
       "    .dataframe thead th {\n",
       "        text-align: right;\n",
       "    }\n",
       "</style>\n",
       "<table border=\"1\" class=\"dataframe\">\n",
       "  <thead>\n",
       "    <tr style=\"text-align: right;\">\n",
       "      <th></th>\n",
       "      <th>Actual</th>\n",
       "      <th>Prediction</th>\n",
       "      <th>ethnicity</th>\n",
       "    </tr>\n",
       "  </thead>\n",
       "  <tbody>\n",
       "    <tr>\n",
       "      <td>0</td>\n",
       "      <td>48</td>\n",
       "      <td>35</td>\n",
       "      <td>indian</td>\n",
       "    </tr>\n",
       "    <tr>\n",
       "      <td>1</td>\n",
       "      <td>52</td>\n",
       "      <td>52</td>\n",
       "      <td>black</td>\n",
       "    </tr>\n",
       "    <tr>\n",
       "      <td>2</td>\n",
       "      <td>39</td>\n",
       "      <td>39</td>\n",
       "      <td>others</td>\n",
       "    </tr>\n",
       "    <tr>\n",
       "      <td>3</td>\n",
       "      <td>44</td>\n",
       "      <td>52</td>\n",
       "      <td>indian</td>\n",
       "    </tr>\n",
       "    <tr>\n",
       "      <td>4</td>\n",
       "      <td>31</td>\n",
       "      <td>41</td>\n",
       "      <td>indian</td>\n",
       "    </tr>\n",
       "  </tbody>\n",
       "</table>\n",
       "</div>"
      ],
      "text/plain": [
       "   Actual  Prediction ethnicity\n",
       "0      48          35    indian\n",
       "1      52          52     black\n",
       "2      39          39    others\n",
       "3      44          52    indian\n",
       "4      31          41    indian"
      ]
     },
     "execution_count": 3,
     "metadata": {},
     "output_type": "execute_result"
    }
   ],
   "source": [
    "#Add dummy ethnicities\n",
    "ethnicity_list = [\"white\", \"black\", \"asian\", \"indian\", \"others\"]\n",
    "\n",
    "df[\"ethnicity\"] = np.random.choice(ethnicity_list, size=len(df))\n",
    "print(df[\"ethnicity\"].value_counts())\n",
    "df.head()"
   ]
  },
  {
   "cell_type": "markdown",
   "metadata": {},
   "source": [
    "### Test for Asians"
   ]
  },
  {
   "cell_type": "code",
   "execution_count": 4,
   "metadata": {},
   "outputs": [],
   "source": [
    "mask = df[\"ethnicity\"] == \"asian\"\n",
    "df_asian = df[mask]\n",
    "\n",
    "X = df_asian[\"Prediction\"]\n",
    "X = X.to_frame()\n",
    "\n",
    "Y = df_asian[\"Actual\"]\n",
    "Y = Y.to_frame()"
   ]
  },
  {
   "cell_type": "code",
   "execution_count": 5,
   "metadata": {
    "scrolled": false
   },
   "outputs": [
    {
     "data": {
      "text/html": [
       "<div>\n",
       "<style scoped>\n",
       "    .dataframe tbody tr th:only-of-type {\n",
       "        vertical-align: middle;\n",
       "    }\n",
       "\n",
       "    .dataframe tbody tr th {\n",
       "        vertical-align: top;\n",
       "    }\n",
       "\n",
       "    .dataframe thead th {\n",
       "        text-align: right;\n",
       "    }\n",
       "</style>\n",
       "<table border=\"1\" class=\"dataframe\">\n",
       "  <thead>\n",
       "    <tr style=\"text-align: right;\">\n",
       "      <th></th>\n",
       "      <th>Prediction</th>\n",
       "    </tr>\n",
       "  </thead>\n",
       "  <tbody>\n",
       "    <tr>\n",
       "      <td>8</td>\n",
       "      <td>70</td>\n",
       "    </tr>\n",
       "    <tr>\n",
       "      <td>12</td>\n",
       "      <td>52</td>\n",
       "    </tr>\n",
       "    <tr>\n",
       "      <td>17</td>\n",
       "      <td>24</td>\n",
       "    </tr>\n",
       "    <tr>\n",
       "      <td>21</td>\n",
       "      <td>32</td>\n",
       "    </tr>\n",
       "    <tr>\n",
       "      <td>22</td>\n",
       "      <td>61</td>\n",
       "    </tr>\n",
       "    <tr>\n",
       "      <td>...</td>\n",
       "      <td>...</td>\n",
       "    </tr>\n",
       "    <tr>\n",
       "      <td>15780</td>\n",
       "      <td>39</td>\n",
       "    </tr>\n",
       "    <tr>\n",
       "      <td>15788</td>\n",
       "      <td>61</td>\n",
       "    </tr>\n",
       "    <tr>\n",
       "      <td>15789</td>\n",
       "      <td>26</td>\n",
       "    </tr>\n",
       "    <tr>\n",
       "      <td>15792</td>\n",
       "      <td>43</td>\n",
       "    </tr>\n",
       "    <tr>\n",
       "      <td>15799</td>\n",
       "      <td>51</td>\n",
       "    </tr>\n",
       "  </tbody>\n",
       "</table>\n",
       "<p>3140 rows × 1 columns</p>\n",
       "</div>"
      ],
      "text/plain": [
       "       Prediction\n",
       "8              70\n",
       "12             52\n",
       "17             24\n",
       "21             32\n",
       "22             61\n",
       "...           ...\n",
       "15780          39\n",
       "15788          61\n",
       "15789          26\n",
       "15792          43\n",
       "15799          51\n",
       "\n",
       "[3140 rows x 1 columns]"
      ]
     },
     "execution_count": 5,
     "metadata": {},
     "output_type": "execute_result"
    }
   ],
   "source": [
    "X"
   ]
  },
  {
   "cell_type": "code",
   "execution_count": 6,
   "metadata": {
    "scrolled": true
   },
   "outputs": [],
   "source": [
    "X_train, X_test, Y_train, Y_test = train_test_split(X, Y, test_size = 0.30, random_state = 11)"
   ]
  },
  {
   "cell_type": "markdown",
   "metadata": {},
   "source": [
    "# Poly"
   ]
  },
  {
   "cell_type": "code",
   "execution_count": 7,
   "metadata": {},
   "outputs": [
    {
     "name": "stdout",
     "output_type": "stream",
     "text": [
      "Coef: [[ 0.00000000e+00  2.20525493e-01  1.72926951e-02 -1.07412992e-04]]\n",
      "Intercept: [9.74221514]\n"
     ]
    }
   ],
   "source": [
    "#Poly with 3 degrees\n",
    "poly = PolynomialFeatures(degree=3)\n",
    "\n",
    "X_train_P = poly.fit_transform(X_train)\n",
    "X_test_P = poly.fit_transform(X_test)\n",
    "\n",
    "reg = linear_model.LinearRegression()\n",
    "reg.fit(X_train_P, Y_train)\n",
    "\n",
    "y_pred_x_train_P = reg.predict(X_train_P)\n",
    "y_pred_x_test_P = reg.predict(X_test_P)\n",
    "\n",
    "print(\"Coef: \" + str(reg.coef_))\n",
    "print(\"Intercept: \" + str(reg.intercept_))"
   ]
  },
  {
   "cell_type": "code",
   "execution_count": 8,
   "metadata": {},
   "outputs": [
    {
     "name": "stdout",
     "output_type": "stream",
     "text": [
      "Train score : 0.80597\n",
      "Test score : 0.81883\n",
      "Prediction score : 1.0\n"
     ]
    }
   ],
   "source": [
    "train_score = reg.score(X_train_P, Y_train)\n",
    "test_score = reg.score(X_test_P, Y_test)\n",
    "prediction_score = reg.score(X_test_P, y_pred_x_test_P)\n",
    "\n",
    "print(\"Train score : \"+ str(round(train_score,5)))\n",
    "print(\"Test score : \"+ str(round(test_score,5)))\n",
    "print(\"Prediction score : \" + str(round(prediction_score,5)))"
   ]
  },
  {
   "cell_type": "code",
   "execution_count": 9,
   "metadata": {
    "scrolled": true
   },
   "outputs": [
    {
     "data": {
      "image/png": "[encoded data removed]",
      "text/plain": [
       "<Figure size 432x288 with 1 Axes>"
      ]
     },
     "metadata": {
      "needs_background": "light"
     },
     "output_type": "display_data"
    }
   ],
   "source": [
    "plt.scatter(X, Y, color = 'blue') \n",
    "  \n",
    "plt.plot(X_test_P, y_pred_x_test_P, color = 'red') \n",
    "plt.xlabel('Predicted') \n",
    "plt.ylabel('Actual') \n",
    "  \n",
    "plt.show() "
   ]
  },
  {
   "cell_type": "markdown",
   "metadata": {},
   "source": [
    "# Linear"
   ]
  },
  {
   "cell_type": "code",
   "execution_count": 10,
   "metadata": {
    "scrolled": false
   },
   "outputs": [
    {
     "name": "stdout",
     "output_type": "stream",
     "text": [
      "Coef: [[1.0760186]]\n",
      "Intercept: [-3.05149888]\n"
     ]
    }
   ],
   "source": [
    "import numpy as np\n",
    "from sklearn.linear_model import LinearRegression\n",
    "linear = LinearRegression()\n",
    "linear.fit(X_train, Y_train)\n",
    "y_pred_x_train = linear.predict(X_train)\n",
    "Y_pred = linear.predict(X_test)\n",
    "\n",
    "print(\"Coef: \" + str(linear.coef_))\n",
    "print(\"Intercept: \" + str(linear.intercept_))"
   ]
  },
  {
   "cell_type": "code",
   "execution_count": 11,
   "metadata": {},
   "outputs": [
    {
     "name": "stdout",
     "output_type": "stream",
     "text": [
      "Train score : 0.80462\n",
      "Test score : 0.81895\n",
      "Prediction score : 1.0\n"
     ]
    }
   ],
   "source": [
    "train_score = linear.score(X_train, Y_train)\n",
    "test_score = linear.score(X_test, Y_test)\n",
    "prediction_score = linear.score(X_test, Y_pred)\n",
    "\n",
    "print(\"Train score : \"+ str(round(train_score,5)))\n",
    "print(\"Test score : \"+ str(round(test_score,5)))\n",
    "print(\"Prediction score : \" + str(round(prediction_score,5)))"
   ]
  },
  {
   "cell_type": "code",
   "execution_count": 16,
   "metadata": {
    "scrolled": true
   },
   "outputs": [
    {
     "data": {
      "image/png": "[encoded data removed]",
      "text/plain": [
       "<Figure size 432x288 with 1 Axes>"
      ]
     },
     "metadata": {
      "needs_background": "light"
     },
     "output_type": "display_data"
    }
   ],
   "source": [
    "plt.scatter(X, Y, color = 'blue') \n",
    "  \n",
    "plt.plot(X_test, Y_pred, color = 'red') \n",
    "\n",
    "plt.xlabel('Predicted') \n",
    "plt.ylabel('Actual') \n",
    "\n",
    "plt.show() "
   ]
  },
  {
   "cell_type": "markdown",
   "metadata": {},
   "source": [
    "# RandomForest"
   ]
  },
  {
   "cell_type": "code",
   "execution_count": 17,
   "metadata": {
    "scrolled": false
   },
   "outputs": [
    {
     "name": "stdout",
     "output_type": "stream",
     "text": [
      "Train score : 0.81107\n",
      "Test score : 0.81851\n",
      "Prediction score : 1.0\n"
     ]
    },
    {
     "name": "stderr",
     "output_type": "stream",
     "text": [
      "C:\\Users\\sebas\\Anaconda3\\envs\\ML\\lib\\site-packages\\ipykernel_launcher.py:2: DataConversionWarning: A column-vector y was passed when a 1d array was expected. Please change the shape of y to (n_samples,), for example using ravel().\n",
      "  \n"
     ]
    }
   ],
   "source": [
    "RandomForestRegressorModel = RandomForestRegressor(n_estimators=50)\n",
    "RandomForestRegressorModel.fit(X_train, Y_train)\n",
    "Y_pred = RandomForestRegressorModel.predict(X_test)\n",
    "\n",
    "train_score = RandomForestRegressorModel.score(X_train, Y_train)\n",
    "test_score = RandomForestRegressorModel.score(X_test, Y_test)\n",
    "prediction_score = RandomForestRegressorModel.score(X_test, Y_pred)\n",
    "\n",
    "print(\"Train score : \"+ str(round(train_score,5)))\n",
    "print(\"Test score : \"+ str(round(test_score,5)))\n",
    "print(\"Prediction score : \" + str(round(prediction_score,5)))"
   ]
  },
  {
   "cell_type": "markdown",
   "metadata": {},
   "source": [
    "# RidgeCV"
   ]
  },
  {
   "cell_type": "code",
   "execution_count": 18,
   "metadata": {
    "scrolled": false
   },
   "outputs": [
    {
     "name": "stdout",
     "output_type": "stream",
     "text": [
      "Alpha: 10.0\n",
      "Coef: [[1.07598953]]\n",
      "Intercept: [-3.05039069]\n"
     ]
    }
   ],
   "source": [
    "ridgecv = linear_model.RidgeCV(alphas=np.logspace(-6, 6, 13))\n",
    "ridgecv.fit(X_train,Y_train)\n",
    "\n",
    "print(\"Alpha: \" + str(ridgecv.alpha_))\n",
    "print(\"Coef: \" + str(ridgecv.coef_))\n",
    "print(\"Intercept: \" + str(ridgecv.intercept_))"
   ]
  },
  {
   "cell_type": "code",
   "execution_count": 19,
   "metadata": {},
   "outputs": [
    {
     "name": "stdout",
     "output_type": "stream",
     "text": [
      "Train score : 0.80462\n",
      "Test score : 0.81895\n",
      "Prediction score : 0.99181\n"
     ]
    }
   ],
   "source": [
    "train_score = ridgecv.score(X_train, Y_train)\n",
    "test_score = ridgecv.score(X_test, Y_test)\n",
    "prediction_score = ridgecv.score(X_test, Y_pred)\n",
    "\n",
    "print(\"Train score : \"+ str(round(train_score,5)))\n",
    "print(\"Test score : \"+ str(round(test_score,5)))\n",
    "print(\"Prediction score : \" + str(round(prediction_score,5)))"
   ]
  },
  {
   "cell_type": "markdown",
   "metadata": {},
   "source": [
    "# LassoCV"
   ]
  },
  {
   "cell_type": "code",
   "execution_count": 20,
   "metadata": {
    "scrolled": true
   },
   "outputs": [
    {
     "name": "stdout",
     "output_type": "stream",
     "text": [
      "Alpha: 1e-06\n",
      "Coef: [1.07601859]\n",
      "Intercept: -3.0514986585212682\n"
     ]
    },
    {
     "name": "stderr",
     "output_type": "stream",
     "text": [
      "C:\\Users\\sebas\\Anaconda3\\envs\\ML\\lib\\site-packages\\sklearn\\linear_model\\coordinate_descent.py:1100: DataConversionWarning: A column-vector y was passed when a 1d array was expected. Please change the shape of y to (n_samples, ), for example using ravel().\n",
      "  y = column_or_1d(y, warn=True)\n",
      "C:\\Users\\sebas\\Anaconda3\\envs\\ML\\lib\\site-packages\\sklearn\\model_selection\\_split.py:1978: FutureWarning: The default value of cv will change from 3 to 5 in version 0.22. Specify it explicitly to silence this warning.\n",
      "  warnings.warn(CV_WARNING, FutureWarning)\n"
     ]
    }
   ],
   "source": [
    "lassocv = linear_model.LassoCV(alphas=np.logspace(-6, 6, 13))\n",
    "lassocv.fit(X_train,Y_train)\n",
    "\n",
    "print(\"Alpha: \" + str(lassocv.alpha_))\n",
    "print(\"Coef: \" + str(lassocv.coef_))\n",
    "print(\"Intercept: \" + str(lassocv.intercept_))"
   ]
  },
  {
   "cell_type": "code",
   "execution_count": 21,
   "metadata": {},
   "outputs": [
    {
     "name": "stdout",
     "output_type": "stream",
     "text": [
      "Train score : 0.80462\n",
      "Test score : 0.81895\n",
      "Prediction score : 0.99181\n"
     ]
    }
   ],
   "source": [
    "train_score = lassocv.score(X_train, Y_train)\n",
    "test_score = lassocv.score(X_test, Y_test)\n",
    "prediction_score = lassocv.score(X_test, Y_pred)\n",
    "\n",
    "print(\"Train score : \"+ str(round(train_score,5)))\n",
    "print(\"Test score : \"+ str(round(test_score,5)))\n",
    "print(\"Prediction score : \" + str(round(prediction_score,5)))"
   ]
  },
  {
   "cell_type": "markdown",
   "metadata": {},
   "source": [
    "# DT"
   ]
  },
  {
   "cell_type": "code",
   "execution_count": 22,
   "metadata": {},
   "outputs": [
    {
     "data": {
      "image/png": "[encoded data removed]",
      "text/plain": [
       "<Figure size 432x288 with 1 Axes>"
      ]
     },
     "metadata": {
      "needs_background": "light"
     },
     "output_type": "display_data"
    }
   ],
   "source": [
    "# Fit regression model\n",
    "regr_1 = DecisionTreeRegressor(max_depth=2)\n",
    "regr_2 = DecisionTreeRegressor(max_depth=5)\n",
    "regr_1.fit(X_train, Y_train)\n",
    "regr_2.fit(X_train, Y_train)\n",
    "\n",
    "# Predict\n",
    "\n",
    "y_1 = regr_1.predict(X_test)\n",
    "y_2 = regr_2.predict(X_test)\n",
    "\n",
    "# Plot the results\n",
    "plt.figure()\n",
    "plt.scatter(X, Y, s=20, edgecolor=\"black\",\n",
    "            c=\"darkorange\", label=\"data\")\n",
    "plt.plot(X_test, y_1, color=\"cornflowerblue\",\n",
    "         label=\"max_depth=2\", linewidth=2)\n",
    "plt.plot(X_test, y_2, color=\"yellowgreen\", label=\"max_depth=5\", linewidth=2)\n",
    "plt.xlabel(\"data\")\n",
    "plt.ylabel(\"target\")\n",
    "plt.title(\"Decision Tree Regression\")\n",
    "plt.legend()\n",
    "plt.show()"
   ]
  },
  {
   "cell_type": "code",
   "execution_count": 23,
   "metadata": {},
   "outputs": [
    {
     "name": "stdout",
     "output_type": "stream",
     "text": [
      "Train score : 0.75693\n",
      "Test score : 0.81895\n",
      "Prediction score 1 : 1.0\n",
      "Prediction score 2 : 1.0\n"
     ]
    }
   ],
   "source": [
    "train_score = regr_1.score(X_train, Y_train)\n",
    "# test_score = regr_1.score(X_test, Y_1)\n",
    "prediction_score_1 = regr_1.score(X_test, y_1)\n",
    "prediction_score_2 = regr_2.score(X_test, y_2)\n",
    "\n",
    "print(\"Train score : \"+ str(round(train_score,5)))\n",
    "print(\"Test score : \"+ str(round(test_score,5)))\n",
    "print(\"Prediction score 1 : \" + str(round(prediction_score_1,5)))\n",
    "print(\"Prediction score 2 : \" + str(round(prediction_score_2,5)))"
   ]
  }
 ],
 "metadata": {
  "kernelspec": {
   "display_name": "Python 3",
   "language": "python",
   "name": "python3"
  },
  "language_info": {
   "codemirror_mode": {
    "name": "ipython",
    "version": 3
   },
   "file_extension": ".py",
   "mimetype": "text/x-python",
   "name": "python",
   "nbconvert_exporter": "python",
   "pygments_lexer": "ipython3",
   "version": "3.7.4"
  }
 },
 "nbformat": 4,
 "nbformat_minor": 4
}
