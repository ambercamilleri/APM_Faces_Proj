{
 "cells": [
  {
   "cell_type": "code",
   "execution_count": 1,
   "metadata": {},
   "outputs": [],
   "source": [
    "#Import packages\n",
    "import pandas as pd\n",
    "import numpy as np\n",
    "import matplotlib.pyplot as plt\n",
    "import math\n",
    "from sklearn.ensemble import RandomForestRegressor\n",
    "from sklearn.metrics import mean_squared_error, r2_score\n",
    "\n",
    "from sklearn.linear_model import LinearRegression\n",
    "from sklearn import linear_model\n",
    "from sklearn.metrics import mean_absolute_error\n",
    "from sklearn.preprocessing import PolynomialFeatures\n",
    "from sklearn.model_selection import train_test_split\n",
    "from sklearn.tree import DecisionTreeRegressor\n",
    "from sklearn.neural_network import MLPRegressor"
   ]
  },
  {
   "cell_type": "code",
   "execution_count": 2,
   "metadata": {},
   "outputs": [
    {
     "name": "stdout",
     "output_type": "stream",
     "text": [
      "(9778, 4)\n"
     ]
    },
    {
     "data": {
      "text/html": [
       "<div>\n",
       "<style scoped>\n",
       "    .dataframe tbody tr th:only-of-type {\n",
       "        vertical-align: middle;\n",
       "    }\n",
       "\n",
       "    .dataframe tbody tr th {\n",
       "        vertical-align: top;\n",
       "    }\n",
       "\n",
       "    .dataframe thead th {\n",
       "        text-align: right;\n",
       "    }\n",
       "</style>\n",
       "<table border=\"1\" class=\"dataframe\">\n",
       "  <thead>\n",
       "    <tr style=\"text-align: right;\">\n",
       "      <th></th>\n",
       "      <th>age</th>\n",
       "      <th>gender</th>\n",
       "      <th>race</th>\n",
       "      <th>pre_age</th>\n",
       "    </tr>\n",
       "  </thead>\n",
       "  <tbody>\n",
       "    <tr>\n",
       "      <th>0</th>\n",
       "      <td>100</td>\n",
       "      <td>1</td>\n",
       "      <td>White</td>\n",
       "      <td>52</td>\n",
       "    </tr>\n",
       "    <tr>\n",
       "      <th>1</th>\n",
       "      <td>100</td>\n",
       "      <td>1</td>\n",
       "      <td>Asian</td>\n",
       "      <td>39</td>\n",
       "    </tr>\n",
       "    <tr>\n",
       "      <th>2</th>\n",
       "      <td>101</td>\n",
       "      <td>1</td>\n",
       "      <td>Asian</td>\n",
       "      <td>37</td>\n",
       "    </tr>\n",
       "    <tr>\n",
       "      <th>3</th>\n",
       "      <td>10</td>\n",
       "      <td>0</td>\n",
       "      <td>White</td>\n",
       "      <td>30</td>\n",
       "    </tr>\n",
       "    <tr>\n",
       "      <th>4</th>\n",
       "      <td>10</td>\n",
       "      <td>0</td>\n",
       "      <td>White</td>\n",
       "      <td>30</td>\n",
       "    </tr>\n",
       "  </tbody>\n",
       "</table>\n",
       "</div>"
      ],
      "text/plain": [
       "   age  gender   race  pre_age\n",
       "0  100       1  White       52\n",
       "1  100       1  Asian       39\n",
       "2  101       1  Asian       37\n",
       "3   10       0  White       30\n",
       "4   10       0  White       30"
      ]
     },
     "execution_count": 2,
     "metadata": {},
     "output_type": "execute_result"
    }
   ],
   "source": [
    "#import errors\n",
    "df = pd.read_csv(\"utk_face_predictions.csv\")\n",
    "\n",
    "#drop colunmns\n",
    "df = df.drop([\"Unnamed: 0\", \"date&time\", \"filename\"], axis=1)\n",
    "df[\"race\"] = df[\"race\"].replace({0:\"White\", 1:\"Black\", 2:\"Asian\", 3:\"Indian\", 4:\"Other\"})\n",
    "#Others includes Hispanic, Latino, Middle Eastern\n",
    "print(df.shape)\n",
    "df.head()"
   ]
  },
  {
   "cell_type": "code",
   "execution_count": 3,
   "metadata": {},
   "outputs": [
    {
     "name": "stdout",
     "output_type": "stream",
     "text": [
      "Baseline MAE:  17.379320924524443\n",
      "Baseline MSE:  429.53784004908977\n",
      "Baseline RMSE 20.725294691489665\n"
     ]
    }
   ],
   "source": [
    "#baseline MAE error\n",
    "df_error = df.copy()\n",
    "df_error[\"diff\"] = df[\"age\"] - df[\"pre_age\"]\n",
    "df_error[\"abs_diff\"] = df_error[\"diff\"].abs()\n",
    "MAE_baseline = df_error[\"abs_diff\"].mean()\n",
    "\n",
    "#baseline RMSE error\n",
    "def square(x):\n",
    "    return x**2\n",
    "df_error[\"sq_diff\"] = df_error[\"diff\"].apply(square)\n",
    "MSE_baseline = df_error[\"sq_diff\"].mean()\n",
    "RMSE_baseline = math.sqrt(MSE_baseline)\n",
    "\n",
    "#print errors\n",
    "print(\"Baseline MAE: \", MAE_baseline)\n",
    "print(\"Baseline MSE: \", MSE_baseline)\n",
    "print(\"Baseline RMSE\", RMSE_baseline)"
   ]
  },
  {
   "cell_type": "markdown",
   "metadata": {},
   "source": [
    "## Correcting Overall Bias for Age based on just original predicted age"
   ]
  },
  {
   "cell_type": "code",
   "execution_count": 4,
   "metadata": {},
   "outputs": [
    {
     "data": {
      "image/png": "[encoded data removed]",
      "text/plain": [
       "<Figure size 432x288 with 1 Axes>"
      ]
     },
     "metadata": {
      "needs_background": "light"
     },
     "output_type": "display_data"
    }
   ],
   "source": [
    "#Set up the data, check scatter\n",
    "X = np.array(df[\"pre_age\"])\n",
    "X = np.reshape(X, (-1, 1))\n",
    "\n",
    "r = range(0,101)\n",
    "Y = df[\"age\"]\n",
    "Y = np.array(Y)\n",
    "plt.scatter(X, Y)\n",
    "plt.plot(r, r, color = 'red', linestyle = \"--\")\n",
    "plt.xlabel('Predicted') \n",
    "plt.ylabel('Actual')\n",
    "plt.title(\"Actual vs Predicted Age\")\n",
    "plt.show()"
   ]
  },
  {
   "cell_type": "code",
   "execution_count": 5,
   "metadata": {},
   "outputs": [],
   "source": [
    "X_train, X_test, Y_train, Y_test = train_test_split(X, Y, test_size = 0.30, random_state = 11)"
   ]
  },
  {
   "cell_type": "markdown",
   "metadata": {},
   "source": [
    "#### Linear Regression"
   ]
  },
  {
   "cell_type": "code",
   "execution_count": 6,
   "metadata": {},
   "outputs": [
    {
     "name": "stdout",
     "output_type": "stream",
     "text": [
      "Intercept: -43.340337681980515     Coef: [2.35887827]\n",
      "MAE : 14.75916\n",
      "RMSE : 18.79284\n"
     ]
    }
   ],
   "source": [
    "linear = LinearRegression()\n",
    "linear.fit(X_train, Y_train)\n",
    "Y_pred = linear.predict(X_test)\n",
    "mae = mean_absolute_error(Y_test, Y_pred)\n",
    "rmse = math.sqrt(mean_squared_error(Y_test, Y_pred))\n",
    "\n",
    "print(\"Intercept: \" + str(linear.intercept_) + \"     Coef: \" + str(linear.coef_))\n",
    "print(\"MAE : \" + str(round(mae,5)))\n",
    "print(\"RMSE : \" + str(round(rmse,5)))"
   ]
  },
  {
   "cell_type": "markdown",
   "metadata": {},
   "source": [
    "#### Random Forest"
   ]
  },
  {
   "cell_type": "code",
   "execution_count": 7,
   "metadata": {},
   "outputs": [
    {
     "name": "stdout",
     "output_type": "stream",
     "text": [
      "MAE : 14.44419\n",
      "RMSE : 18.57074\n"
     ]
    }
   ],
   "source": [
    "RandomForestRegressorModel = RandomForestRegressor(n_estimators=50)\n",
    "RandomForestRegressorModel.fit(X_train, Y_train)\n",
    "Y_pred = RandomForestRegressorModel.predict(X_test)\n",
    "mae = mean_absolute_error(Y_test, Y_pred)\n",
    "rmse = math.sqrt(mean_squared_error(Y_test, Y_pred))\n",
    "\n",
    "print(\"MAE : \" + str(round(mae,5)))\n",
    "print(\"RMSE : \" + str(round(rmse,5)))"
   ]
  },
  {
   "cell_type": "markdown",
   "metadata": {},
   "source": [
    "## Correcting Bias using orig predicted age, actual gender and actual race"
   ]
  },
  {
   "cell_type": "code",
   "execution_count": 8,
   "metadata": {},
   "outputs": [
    {
     "data": {
      "text/html": [
       "<div>\n",
       "<style scoped>\n",
       "    .dataframe tbody tr th:only-of-type {\n",
       "        vertical-align: middle;\n",
       "    }\n",
       "\n",
       "    .dataframe tbody tr th {\n",
       "        vertical-align: top;\n",
       "    }\n",
       "\n",
       "    .dataframe thead th {\n",
       "        text-align: right;\n",
       "    }\n",
       "</style>\n",
       "<table border=\"1\" class=\"dataframe\">\n",
       "  <thead>\n",
       "    <tr style=\"text-align: right;\">\n",
       "      <th></th>\n",
       "      <th>gender</th>\n",
       "      <th>pre_age</th>\n",
       "      <th>race_Asian</th>\n",
       "      <th>race_Black</th>\n",
       "      <th>race_Indian</th>\n",
       "      <th>race_Other</th>\n",
       "      <th>race_White</th>\n",
       "    </tr>\n",
       "  </thead>\n",
       "  <tbody>\n",
       "    <tr>\n",
       "      <th>0</th>\n",
       "      <td>1</td>\n",
       "      <td>52</td>\n",
       "      <td>0</td>\n",
       "      <td>0</td>\n",
       "      <td>0</td>\n",
       "      <td>0</td>\n",
       "      <td>1</td>\n",
       "    </tr>\n",
       "    <tr>\n",
       "      <th>1</th>\n",
       "      <td>1</td>\n",
       "      <td>39</td>\n",
       "      <td>1</td>\n",
       "      <td>0</td>\n",
       "      <td>0</td>\n",
       "      <td>0</td>\n",
       "      <td>0</td>\n",
       "    </tr>\n",
       "    <tr>\n",
       "      <th>2</th>\n",
       "      <td>1</td>\n",
       "      <td>37</td>\n",
       "      <td>1</td>\n",
       "      <td>0</td>\n",
       "      <td>0</td>\n",
       "      <td>0</td>\n",
       "      <td>0</td>\n",
       "    </tr>\n",
       "    <tr>\n",
       "      <th>3</th>\n",
       "      <td>0</td>\n",
       "      <td>30</td>\n",
       "      <td>0</td>\n",
       "      <td>0</td>\n",
       "      <td>0</td>\n",
       "      <td>0</td>\n",
       "      <td>1</td>\n",
       "    </tr>\n",
       "    <tr>\n",
       "      <th>4</th>\n",
       "      <td>0</td>\n",
       "      <td>30</td>\n",
       "      <td>0</td>\n",
       "      <td>0</td>\n",
       "      <td>0</td>\n",
       "      <td>0</td>\n",
       "      <td>1</td>\n",
       "    </tr>\n",
       "  </tbody>\n",
       "</table>\n",
       "</div>"
      ],
      "text/plain": [
       "   gender  pre_age  race_Asian  race_Black  race_Indian  race_Other  \\\n",
       "0       1       52           0           0            0           0   \n",
       "1       1       39           1           0            0           0   \n",
       "2       1       37           1           0            0           0   \n",
       "3       0       30           0           0            0           0   \n",
       "4       0       30           0           0            0           0   \n",
       "\n",
       "   race_White  \n",
       "0           1  \n",
       "1           0  \n",
       "2           0  \n",
       "3           1  \n",
       "4           1  "
      ]
     },
     "execution_count": 8,
     "metadata": {},
     "output_type": "execute_result"
    }
   ],
   "source": [
    "#set up data\n",
    "X = pd.get_dummies(df,prefix=[\"race\"]).drop([\"age\"], axis=1)\n",
    "Y = df[\"age\"]\n",
    "X.head()"
   ]
  },
  {
   "cell_type": "code",
   "execution_count": 9,
   "metadata": {},
   "outputs": [],
   "source": [
    "X_train, X_test, Y_train, Y_test = train_test_split(X, Y, test_size = 0.30, random_state = 11)"
   ]
  },
  {
   "cell_type": "markdown",
   "metadata": {},
   "source": [
    "#### Linear Regression"
   ]
  },
  {
   "cell_type": "code",
   "execution_count": 10,
   "metadata": {},
   "outputs": [
    {
     "name": "stdout",
     "output_type": "stream",
     "text": [
      "Intercept: -39.20933954621596     Coef: [-1.11058848  2.19624922 -5.51939937  4.36701246 -0.15231882 -3.64505594\n",
      "  4.94976167]\n",
      "MAE : 14.38492\n",
      "RMSE : 18.36849\n"
     ]
    }
   ],
   "source": [
    "linear = LinearRegression()\n",
    "linear.fit(X_train, Y_train)\n",
    "Y_pred = linear.predict(X_test)\n",
    "mae = mean_absolute_error(Y_test, Y_pred)\n",
    "rmse = math.sqrt(mean_squared_error(Y_test, Y_pred))\n",
    "\n",
    "print(\"Intercept: \" + str(linear.intercept_) + \"     Coef: \" + str(linear.coef_))\n",
    "print(\"MAE : \" + str(round(mae,5)))\n",
    "print(\"RMSE : \" + str(round(rmse,5)))"
   ]
  },
  {
   "cell_type": "markdown",
   "metadata": {},
   "source": [
    "#### Random Forest"
   ]
  },
  {
   "cell_type": "code",
   "execution_count": 11,
   "metadata": {},
   "outputs": [
    {
     "name": "stdout",
     "output_type": "stream",
     "text": [
      "MAE : 14.06905\n",
      "RMSE : 18.34446\n"
     ]
    }
   ],
   "source": [
    "RandomForestRegressorModel = RandomForestRegressor(n_estimators=50)\n",
    "RandomForestRegressorModel.fit(X_train, Y_train)\n",
    "Y_pred = RandomForestRegressorModel.predict(X_test)\n",
    "mae = mean_absolute_error(Y_test, Y_pred)\n",
    "rmse = math.sqrt(mean_squared_error(Y_test, Y_pred))\n",
    "\n",
    "print(\"MAE : \" + str(round(mae,5)))\n",
    "print(\"RMSE : \" + str(round(rmse,5)))"
   ]
  },
  {
   "cell_type": "markdown",
   "metadata": {},
   "source": [
    "#### Polynomial"
   ]
  },
  {
   "cell_type": "code",
   "execution_count": 18,
   "metadata": {},
   "outputs": [
    {
     "name": "stdout",
     "output_type": "stream",
     "text": [
      "MAEs: \n",
      "14.152082712080489 14.079486017563617 14.030760437850189 14.040899235587057\n",
      "RMSEs: \n",
      "18.257208494340794 18.227919662325853 18.218502035094488 18.330414107349814\n",
      "Best polynomial is:  4\n"
     ]
    }
   ],
   "source": [
    "#Fit data to a polynomial \n",
    "mae_list = []\n",
    "rmse_list = []\n",
    "poly_list = [2,3,4,5]\n",
    "\n",
    "for p in poly_list:\n",
    "    poly = PolynomialFeatures(degree=p)\n",
    "    X_train_P = poly.fit_transform(X_train)\n",
    "    X_test_P = poly.fit_transform(X_test)\n",
    "\n",
    "    #run model\n",
    "    reg = linear_model.LinearRegression()\n",
    "    reg.fit(X_train_P, Y_train)\n",
    "    y_pred_x_test_P = reg.predict(X_test_P)\n",
    "    # print(\"Coef: \" + str(reg.coef_))\n",
    "    # print(\"Intercept: \" + str(reg.intercept_))\n",
    "\n",
    "    #Analyze model fit\n",
    "    mae = mean_absolute_error(Y_test, y_pred_x_test_P)\n",
    "    rmse = math.sqrt(mean_squared_error(Y_test, y_pred_x_test_P))\n",
    "    mae_list.append(mae)\n",
    "    rmse_list.append(rmse)  \n",
    "\n",
    "best_poly = (np.argmin(rmse_list)+2)\n",
    "    \n",
    "print(\"MAEs: \")\n",
    "print(*mae_list)\n",
    "print(\"RMSEs: \")\n",
    "print(*rmse_list)\n",
    "print(\"Best polynomial is: \", best_poly)"
   ]
  },
  {
   "cell_type": "code",
   "execution_count": 22,
   "metadata": {},
   "outputs": [
    {
     "data": {
      "text/html": [
       "<div>\n",
       "<style scoped>\n",
       "    .dataframe tbody tr th:only-of-type {\n",
       "        vertical-align: middle;\n",
       "    }\n",
       "\n",
       "    .dataframe tbody tr th {\n",
       "        vertical-align: top;\n",
       "    }\n",
       "\n",
       "    .dataframe thead th {\n",
       "        text-align: right;\n",
       "    }\n",
       "</style>\n",
       "<table border=\"1\" class=\"dataframe\">\n",
       "  <thead>\n",
       "    <tr style=\"text-align: right;\">\n",
       "      <th></th>\n",
       "      <th>age</th>\n",
       "      <th>revised_prediction</th>\n",
       "    </tr>\n",
       "  </thead>\n",
       "  <tbody>\n",
       "    <tr>\n",
       "      <th>0</th>\n",
       "      <td>100</td>\n",
       "      <td>72.457984</td>\n",
       "    </tr>\n",
       "    <tr>\n",
       "      <th>1</th>\n",
       "      <td>100</td>\n",
       "      <td>49.347002</td>\n",
       "    </tr>\n",
       "    <tr>\n",
       "      <th>2</th>\n",
       "      <td>101</td>\n",
       "      <td>42.889555</td>\n",
       "    </tr>\n",
       "    <tr>\n",
       "      <th>3</th>\n",
       "      <td>10</td>\n",
       "      <td>32.933700</td>\n",
       "    </tr>\n",
       "    <tr>\n",
       "      <th>4</th>\n",
       "      <td>10</td>\n",
       "      <td>32.933700</td>\n",
       "    </tr>\n",
       "  </tbody>\n",
       "</table>\n",
       "</div>"
      ],
      "text/plain": [
       "   age  revised_prediction\n",
       "0  100           72.457984\n",
       "1  100           49.347002\n",
       "2  101           42.889555\n",
       "3   10           32.933700\n",
       "4   10           32.933700"
      ]
     },
     "execution_count": 22,
     "metadata": {},
     "output_type": "execute_result"
    }
   ],
   "source": [
    "#Predict new values of Y for all X's using model\n",
    "poly = PolynomialFeatures(degree=best_poly)\n",
    "X_P = poly.fit_transform(X)\n",
    "#run model\n",
    "reg = linear_model.LinearRegression()\n",
    "reg.fit(X_P, Y)\n",
    "y_new = pd.Series(reg.predict(X_P))\n",
    "y_new = y_new.rename('revised_prediction')\n",
    "\n",
    "df_new = pd.concat([df[\"age\"], y_new], axis=1)\n",
    "df_new.head()"
   ]
  },
  {
   "cell_type": "code",
   "execution_count": 25,
   "metadata": {},
   "outputs": [
    {
     "data": {
      "image/png": "[encoded data removed]",
      "text/plain": [
       "<Figure size 720x360 with 1 Axes>"
      ]
     },
     "metadata": {
      "needs_background": "light"
     },
     "output_type": "display_data"
    }
   ],
   "source": [
    "#Plot averages for each age prediction against actual age\n",
    "plt.figure(figsize=(10,5))\n",
    "\n",
    "dmean = df.groupby(['age'], as_index=False)['pre_age'].mean()\n",
    "dmean_new = df_new.groupby(['age'], as_index=False)['revised_prediction'].mean()\n",
    "x_orig = dmean['age']\n",
    "y_orig = dmean['pre_age']\n",
    "x_new = dmean_new['age']\n",
    "y_new = dmean_new['revised_prediction']\n",
    "\n",
    "plt.plot(x_orig, y_orig, color = 'b', label = \"Original Prediction\")\n",
    "plt.plot(x_new, y_new, color = 'g', label = \"Revised Prediction\")\n",
    "plt.plot(r, r, color = 'red', linestyle = \"--\", label = \"100% accurate\") \n",
    "plt.xlabel('Predicted') \n",
    "plt.ylabel('Actual')\n",
    "plt.legend(numpoints=1, loc='best')\n",
    "plt.show()"
   ]
  }
 ],
 "metadata": {
  "kernelspec": {
   "display_name": "Python 3",
   "language": "python",
   "name": "python3"
  },
  "language_info": {
   "codemirror_mode": {
    "name": "ipython",
    "version": 3
   },
   "file_extension": ".py",
   "mimetype": "text/x-python",
   "name": "python",
   "nbconvert_exporter": "python",
   "pygments_lexer": "ipython3",
   "version": "3.7.3"
  }
 },
 "nbformat": 4,
 "nbformat_minor": 4
}
